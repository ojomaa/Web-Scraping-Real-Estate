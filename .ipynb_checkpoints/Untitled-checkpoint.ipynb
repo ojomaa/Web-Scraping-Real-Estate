{
 "cells": [
  {
   "cell_type": "code",
   "execution_count": 155,
   "id": "6921a2f8",
   "metadata": {},
   "outputs": [],
   "source": [
    "import requests\n",
    "from bs4 import BeautifulSoup\n",
    "import pandas"
   ]
  },
  {
   "cell_type": "code",
   "execution_count": null,
   "id": "2320406d",
   "metadata": {
    "scrolled": false
   },
   "outputs": [],
   "source": [
    "base_url = 'https://pythonizing.github.io/data/real-estate/rock-springs-wy/LCWYROCKSPRINGS/t=0&s='\n",
    "for page in range(0,30,10):\n",
    "    print(base_url + str(page) + \".html\")\n",
    "    r = requests.get(base_url + str(page) + \".html\")\n",
    "    c=r.content\n",
    "    soup = BeautifulSoup(c, \"html.parser\")\n",
    "    all_properties = soup.find_all('div',{'class':'propertyRow'})\n",
    "\n",
    "page_num= soup.find_all('a', {'class':'Page'})[-1].text"
   ]
  },
  {
   "cell_type": "code",
   "execution_count": 167,
   "id": "46ae1f6c",
   "metadata": {},
   "outputs": [
    {
     "data": {
      "text/plain": [
       "'3'"
      ]
     },
     "execution_count": 167,
     "metadata": {},
     "output_type": "execute_result"
    }
   ],
   "source": [
    "soup.find_all('a', {'class':'Page'})[-1].text"
   ]
  },
  {
   "cell_type": "code",
   "execution_count": 58,
   "id": "42508607",
   "metadata": {},
   "outputs": [
    {
     "name": "stdout",
     "output_type": "stream",
     "text": [
      "$725,000\n",
      "$452,900\n",
      "$396,900\n",
      "$389,900\n",
      "$254,000\n",
      "$252,900\n",
      "$210,000\n",
      "$209,000\n",
      "$199,900\n",
      "$196,900\n"
     ]
    }
   ],
   "source": [
    "for price in all_properties:\n",
    "    print(price.find_all(\"h4\",{\"class\":\"propPrice\"})[0].text.replace(\"\\n\",\"\").replace(\" \",\"\"))"
   ]
  },
  {
   "cell_type": "code",
   "execution_count": 75,
   "id": "612b5b9d",
   "metadata": {},
   "outputs": [
    {
     "name": "stdout",
     "output_type": "stream",
     "text": [
      "0 Gateway\n",
      "Rock Springs, WY 82901\n",
      " \n",
      "1003 Winchester Blvd.\n",
      "Rock Springs, WY 82901\n",
      " \n",
      "600 Talladega\n",
      "Rock Springs, WY 82901\n",
      " \n",
      "3239 Spearhead Way\n",
      "Rock Springs, WY 82901\n",
      " \n",
      "522 Emerald Street\n",
      "Rock Springs, WY 82901\n",
      " \n",
      "1302 Veteran's Drive\n",
      "Rock Springs, WY 82901\n",
      " \n",
      "1021 Cypress Cir\n",
      "Rock Springs, WY 82901\n",
      " \n",
      "913 Madison Dr\n",
      "Rock Springs, WY 82901\n",
      " \n",
      "1344 Teton Street\n",
      "Rock Springs, WY 82901\n",
      " \n",
      "4 Minnies Lane\n",
      "Rock Springs, WY 82901\n",
      " \n"
     ]
    }
   ],
   "source": [
    "for address in all_properties:\n",
    "    print(address.find_all('span',{\"class\":\"propAddressCollapse\"})[0].text.replace(\"\\n\",\"\"))\n",
    "    print(address.find_all('span',{\"class\":\"propAddressCollapse\"})[1].text.replace(\"\\n\",\"\"))\n",
    "    print(\" \")"
   ]
  },
  {
   "cell_type": "code",
   "execution_count": null,
   "id": "0f2adbd8",
   "metadata": {},
   "outputs": [],
   "source": [
    "#create a for-loop so that it goes through every property on the site, then you can begin extracting info\n",
    "l = []\n",
    "base_url = 'https://pythonizing.github.io/data/real-estate/rock-springs-wy/LCWYROCKSPRINGS/t=0&s='\n",
    "for page in range(0,int(page_num)*10,10):\n",
    "    print(base_url + str(page) + \".html\")\n",
    "    r = requests.get(base_url + str(page) + \".html\")\n",
    "    c=r.content\n",
    "    soup = BeautifulSoup(c, \"html.parser\")\n",
    "    all_properties = soup.find_all('div',{'class':'propertyRow'})\n",
    "    \n",
    "    for details in all_properties:\n",
    "\n",
    "        #we want to create a dictionary to store all the information we just gathered from the website. then we go\n",
    "        #through each statement below and store it into the 'd' dictionary\n",
    "        d = {}\n",
    "\n",
    "        #.text to convert the code to text, .replace to replace certain text with text of your choice\n",
    "        d['Address']=details.find_all('span',{\"class\":\"propAddressCollapse\"})[0].text.replace(\"\\n\",\"\")\n",
    "        d['City/Zip']=details.find_all('span',{\"class\":\"propAddressCollapse\"})[1].text.replace(\"\\n\",\"\")\n",
    "\n",
    "        #some properties had some features that others didnt so we did a try-except statement so that it tries it and\n",
    "        #if the info is available it prints it but if its not then it prints 'None'\n",
    "        try:\n",
    "            d['Beds']=details.find_all(\"span\",{\"class\":\"infoBed\"})[0].text.replace('\\n',\"\")\n",
    "        except:\n",
    "            d['Beds']=None\n",
    "\n",
    "        try:\n",
    "            d['Full Bath']=details.find_all(\"span\",{\"class\":\"infoValueFullBath\"})[0].text.replace('\\n',\"\")\n",
    "        except:\n",
    "            d['Full Bath']=None\n",
    "\n",
    "        try:\n",
    "            d['Half Bath']=details.find_all(\"span\",{\"class\":\"infoValueHalfBath\"})[0].text.replace('\\n',\"\")\n",
    "        except:\n",
    "            d['Half Bath']=None\n",
    "\n",
    "        try:\n",
    "            d['Sq.Ft.']=details.find_all(\"span\",{\"class\":\"infoSqFt\"})[0].text.replace('\\n',\"\")\n",
    "        except:\n",
    "            d['Sq.Ft.']=None\n",
    "\n",
    "        d['Price']=details.find_all(\"h4\",{\"class\":\"propPrice\"})[0].text.replace(\"\\n\",\"\").replace(\" \",\"\")\n",
    "\n",
    "        #this one was a little more difficult cuz under columnGroup there was tons of information and then under featureGroup\n",
    "        #there were a ton of information too so we had to break it down to get specific information out of the Features\n",
    "        #section on the website.\n",
    "        # first we pointed to the columnGroup in general with the line below\n",
    "        for column_group in details.find_all('div',{'class':'columnGroup'}):\n",
    "            # here we needed to point to the information within the featureGroup and featureName and so we used a zip()\n",
    "            #method to be able to extract info from 2 different groups\n",
    "            for feature_group, feature_name in zip(column_group.find_all('span',{'class':'featureGroup'}), column_group.find_all('span',{'class':'featureName'})):\n",
    "                #now that we are down to the featureGroup info we can use an if statement to look specifically for the\n",
    "                #keyword: 'Lot Size' in the featureGroup\n",
    "                if 'Lot Size' in feature_group.text:\n",
    "                    #print the featureName (which is just the info inside the featureGroup('Lot Size'))\n",
    "                    d['Lot Size']=feature_name.text\n",
    "\n",
    "        l.append(d)"
   ]
  },
  {
   "cell_type": "code",
   "execution_count": null,
   "id": "ab63088d",
   "metadata": {},
   "outputs": [],
   "source": [
    "l"
   ]
  },
  {
   "cell_type": "code",
   "execution_count": null,
   "id": "c256be06",
   "metadata": {},
   "outputs": [],
   "source": [
    "df = pandas.DataFrame(l)\n",
    "df"
   ]
  },
  {
   "cell_type": "code",
   "execution_count": null,
   "id": "f21ea2a1",
   "metadata": {},
   "outputs": [],
   "source": [
    "df.to_csv(\"property_info.csv\")"
   ]
  },
  {
   "cell_type": "code",
   "execution_count": null,
   "id": "86cb43af",
   "metadata": {},
   "outputs": [],
   "source": []
  }
 ],
 "metadata": {
  "kernelspec": {
   "display_name": "Python 3 (ipykernel)",
   "language": "python",
   "name": "python3"
  },
  "language_info": {
   "codemirror_mode": {
    "name": "ipython",
    "version": 3
   },
   "file_extension": ".py",
   "mimetype": "text/x-python",
   "name": "python",
   "nbconvert_exporter": "python",
   "pygments_lexer": "ipython3",
   "version": "3.9.12"
  }
 },
 "nbformat": 4,
 "nbformat_minor": 5
}
